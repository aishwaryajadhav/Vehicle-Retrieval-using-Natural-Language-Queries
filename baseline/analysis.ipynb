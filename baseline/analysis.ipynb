{
 "cells": [
  {
   "cell_type": "code",
   "execution_count": 1,
   "metadata": {},
   "outputs": [],
   "source": [
    "import json\n",
    "import heapq\n",
    "from PIL import Image, ImageDraw\n",
    "import os\n",
    "import random\n",
    "import numpy as np"
   ]
  },
  {
   "cell_type": "code",
   "execution_count": 27,
   "metadata": {},
   "outputs": [],
   "source": [
    "### Config\n",
    "data_dir = 'data/'\n",
    "json_file = 'pretrained.json'\n",
    "json_tracks = 'data/val_tracks_nlpaug.json'\n",
    "output = 'report_attachment'"
   ]
  },
  {
   "cell_type": "code",
   "execution_count": 18,
   "metadata": {},
   "outputs": [],
   "source": [
    "### Metric Functions\n",
    "\n",
    "def recall(restuls, at=5):\n",
    "    c = 0\n",
    "    RR = 0\n",
    "    for k in results:\n",
    "        resultK = results[k]\n",
    "        for i in range(at):\n",
    "            if resultK[i] == k:\n",
    "                RR += 1\n",
    "                break\n",
    "        c += 1\n",
    "    return RR/c\n",
    "\n",
    "def MRR(results):\n",
    "    c = 0\n",
    "    RR = 0\n",
    "    for k in results:\n",
    "        resultK = results[k]\n",
    "        rank = 1\n",
    "        for i in range(len(resultK)):\n",
    "            if resultK[i] == k:\n",
    "                break\n",
    "            rank += 1\n",
    "        RR += 1/rank\n",
    "        c += 1\n",
    "    return RR/c\n",
    "\n",
    "def best(results, n=20):\n",
    "    q = []\n",
    "    heapq.heapify(q)\n",
    "\n",
    "    for k in results:\n",
    "        resultK = results[k]\n",
    "        rank = 1\n",
    "        for i in range(len(resultK)):\n",
    "            if resultK[i] == k:\n",
    "                break\n",
    "            rank += 1\n",
    "        heapq.heappush(q, (-rank, k))\n",
    "        if len(q) > n:\n",
    "            heapq.heappop(q)\n",
    "    return q\n",
    "\n",
    "def worst(results, n=20):\n",
    "    q = []\n",
    "    heapq.heapify(q)\n",
    "\n",
    "    for k in results:\n",
    "        resultK = results[k]\n",
    "        rank = 1\n",
    "        for i in range(len(resultK)):\n",
    "            if resultK[i] == k:\n",
    "                break\n",
    "            rank += 1\n",
    "        heapq.heappush(q, (rank, k))\n",
    "        if len(q) > n:\n",
    "            heapq.heappop(q)\n",
    "    return q\n",
    "\n",
    "def draw_bounding_box(\n",
    "    img,\n",
    "    box,\n",
    "    fill=None,\n",
    "    width=1,\n",
    "):  \n",
    "    ImageDraw.Draw(img).rectangle(box, fill=fill, outline='red', width=width)\n",
    "    return img"
   ]
  },
  {
   "cell_type": "code",
   "execution_count": 19,
   "metadata": {},
   "outputs": [],
   "source": [
    "def save_analysis(files, tracks, name='worst'):\n",
    "    nl = dict()\n",
    "\n",
    "    for index, (rank, k) in enumerate(files):\n",
    "        img_bk = Image.open(f'data/motion_map/{k}.jpg')\n",
    "        img_bk.save(os.path.join(output, f'{name}_{rank}_{index}_motion.png'))\n",
    "        frames = tracks[k]['frames']\n",
    "        ind =len(frames)//2 - 1\n",
    "        img = Image.open(os.path.join(data_dir, frames[ind]))\n",
    "        box = tracks[k]['boxes'][ind]\n",
    "        box_align = [box[0], box[1], box[0] + box[2], box[1] + box[3]]\n",
    "        draw_bounding_box(img, box_align,  width=6)\n",
    "        img.save(os.path.join(output, f'{name}_{rank}_{index}.png'))\n",
    "        nl[f'{rank}_{index}'] = tracks[k]['nl']\n",
    "    json.dump(nl, open(os.path.join(output, f'{name}_nl.json'), 'w'))\n",
    "\n"
   ]
  },
  {
   "cell_type": "code",
   "execution_count": 28,
   "metadata": {},
   "outputs": [
    {
     "name": "stdout",
     "output_type": "stream",
     "text": [
      "0.22137726494609586\n",
      "0.32367149758454106\n",
      "0.48792270531400966\n"
     ]
    }
   ],
   "source": [
    "results = json.load(open(json_file))\n",
    "print(MRR(results))\n",
    "print(recall(results, 5))\n",
    "print(recall(results, 10))\n",
    "worst5 = worst(results, 5)\n",
    "tracks = json.load(open(json_tracks))"
   ]
  },
  {
   "cell_type": "code",
   "execution_count": 21,
   "metadata": {},
   "outputs": [],
   "source": [
    "save_analysis(worst5, tracks, 'worst')"
   ]
  },
  {
   "cell_type": "code",
   "execution_count": 16,
   "metadata": {},
   "outputs": [],
   "source": [
    "best10 = best(results, 10)"
   ]
  },
  {
   "cell_type": "code",
   "execution_count": 17,
   "metadata": {},
   "outputs": [],
   "source": [
    "save_analysis(best10, tracks, 'best')"
   ]
  },
  {
   "cell_type": "code",
   "execution_count": null,
   "metadata": {},
   "outputs": [],
   "source": []
  }
 ],
 "metadata": {
  "interpreter": {
   "hash": "0902734f85f7df4fdae7023aebfd28b4a1370f807bf1ab16166b804018837bb9"
  },
  "kernelspec": {
   "display_name": "Python 3.7.12 ('aicity': conda)",
   "language": "python",
   "name": "python3"
  },
  "language_info": {
   "codemirror_mode": {
    "name": "ipython",
    "version": 3
   },
   "file_extension": ".py",
   "mimetype": "text/x-python",
   "name": "python",
   "nbconvert_exporter": "python",
   "pygments_lexer": "ipython3",
   "version": "3.7.12"
  },
  "orig_nbformat": 4
 },
 "nbformat": 4,
 "nbformat_minor": 2
}
